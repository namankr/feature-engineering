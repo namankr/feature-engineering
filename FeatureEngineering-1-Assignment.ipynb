{
 "cells": [
  {
   "cell_type": "markdown",
   "id": "7e65d359-82ec-44fc-a98b-9b9a8805b0e1",
   "metadata": {},
   "source": [
    "## Feature Engineering-1 Assignment Solution"
   ]
  },
  {
   "cell_type": "markdown",
   "id": "dc4d8c46-88a0-49fc-9749-fa4b2ad4f3bb",
   "metadata": {},
   "source": [
    "Q1: What are missing values in a dataset? Why is it essential to handle missing values? Name some\n",
    "algorithms that are not affected by missing values.\n",
    "\n",
    "Answer -  The values or data that is not present for some variable/s in the given dataset. It is important to handle missing values as missing value can impact the analysis. It can lead to biased sample of data. Some Techniques are\n",
    "# 1. Mean Value Imputation - work well with normally distributed data \n",
    "# 2. Median Value Imputation Techniques\n",
    "# 3. Mode Value Imputation\n",
    "# 4. Random Sampling"
   ]
  },
  {
   "cell_type": "code",
   "execution_count": null,
   "id": "268e0983-b376-4221-b2d5-c244edf49550",
   "metadata": {},
   "outputs": [],
   "source": []
  },
  {
   "cell_type": "code",
   "execution_count": null,
   "id": "639c1dfa-15c7-4101-a10c-45085d113ddb",
   "metadata": {},
   "outputs": [],
   "source": []
  },
  {
   "cell_type": "code",
   "execution_count": null,
   "id": "061badb0-776c-4328-aab8-27ca698d92eb",
   "metadata": {},
   "outputs": [],
   "source": []
  }
 ],
 "metadata": {
  "kernelspec": {
   "display_name": "Python 3 (ipykernel)",
   "language": "python",
   "name": "python3"
  },
  "language_info": {
   "codemirror_mode": {
    "name": "ipython",
    "version": 3
   },
   "file_extension": ".py",
   "mimetype": "text/x-python",
   "name": "python",
   "nbconvert_exporter": "python",
   "pygments_lexer": "ipython3",
   "version": "3.10.0"
  }
 },
 "nbformat": 4,
 "nbformat_minor": 5
}
